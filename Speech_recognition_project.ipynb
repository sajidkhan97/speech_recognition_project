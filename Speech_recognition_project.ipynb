{
 "cells": [
  {
   "cell_type": "code",
   "execution_count": 3,
   "metadata": {},
   "outputs": [],
   "source": [
    "import speech_recognition as sr"
   ]
  },
  {
   "cell_type": "code",
   "execution_count": 4,
   "metadata": {},
   "outputs": [],
   "source": [
    "import webbrowser as wb"
   ]
  },
  {
   "cell_type": "code",
   "execution_count": 23,
   "metadata": {},
   "outputs": [
    {
     "name": "stdout",
     "output_type": "stream",
     "text": [
      "[search edureka: search youtube]\n",
      "speak now\n",
      "jhjgf\n",
      "python\n"
     ]
    }
   ],
   "source": [
    "r1=sr.Recognizer()\n",
    "r2=sr.Recognizer()\n",
    "r3=sr.Recognizer()\n",
    "with sr.Microphone() as source:\n",
    "    print('[search edureka: search youtube]')\n",
    "    print('speak now')\n",
    "    audio=r3.listen(source)\n",
    "if 'edureka' in r2.recognize_google(audio):\n",
    "    r2=sr.Recognizer()\n",
    "    url='http://www.edureka.co/'\n",
    "    with sr.Microphone() as source:\n",
    "        print('search your query')\n",
    "        audio=r2.listen(source)\n",
    "        try:\n",
    "            get=r2.recognize_google(audio)\n",
    "            print(get)\n",
    "            wb.get().open_new(url+get)\n",
    "        except sr.UnknownValueError:\n",
    "            print('error')\n",
    "        except sr.RequestError as e:\n",
    "            print('failed'.format(e))\n",
    "if 'video' in r1.recognize_google(audio):\n",
    "    r1=sr.Recognizer()\n",
    "    url='https://www.youtube.com/results?search_query='\n",
    "    with sr.Microphone() as source:\n",
    "        print('search for a video')\n",
    "        audio=r1.listen(source)\n",
    "        try:\n",
    "            get=r1.recognize_google(audio)\n",
    "            print(get)\n",
    "            wb.get().open_new(url+get)\n",
    "        except sr.UnknownValueError:\n",
    "            print('error')\n",
    "        except sr.RequestError as e:\n",
    "            print('failed'.format(e))\n",
    "        "
   ]
  },
  {
   "cell_type": "code",
   "execution_count": null,
   "metadata": {},
   "outputs": [],
   "source": []
  }
 ],
 "metadata": {
  "kernelspec": {
   "display_name": "Python 3",
   "language": "python",
   "name": "python3"
  }
 },
 "nbformat": 4,
 "nbformat_minor": 4
}
